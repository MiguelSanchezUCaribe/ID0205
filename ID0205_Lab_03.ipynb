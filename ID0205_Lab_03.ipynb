{
  "nbformat": 4,
  "nbformat_minor": 0,
  "metadata": {
    "colab": {
      "provenance": []
    },
    "kernelspec": {
      "name": "python3",
      "display_name": "Python 3"
    },
    "language_info": {
      "name": "python"
    }
  },
  "cells": [
    {
      "cell_type": "markdown",
      "source": [
        "#ID0205 - Geometría Computacional\n",
        "\n",
        "### Primavera 2023\n",
        "\n",
        "### ID0205_Lab-03\n",
        "\n",
        "**Profesor Enrique Naredo García**\n",
        "\n",
        " <font size = 2> \n",
        "©️ Todos los derechos reservados. All rights reserved.\n",
        "\n",
        "*Nota: El presente documento es una herramienta diseñada única y exclusivamente para los estudiantes de la asignatura arriba mencionada. Queda prohibido compartir este documento entre otros estudiantes, aún siendo de la misma clase, grupo o de la Universidad sin consentimiento del autor. Queda prohibida la reproducción total o parcial de este documento por cualquier medio o procedimiento, ya sea electrónico o mecánico, el tratamiento informático, el alquiler o cualquier otra forma de cesión sin la autorización previa y por escrito del titular del copyright.*\n",
        "</font>"
      ],
      "metadata": {
        "id": "sWkCWfcryTxB"
      }
    },
    {
      "cell_type": "markdown",
      "source": [
        "## Ecuación de la recta"
      ],
      "metadata": {
        "id": "8PvCprluzKti"
      }
    },
    {
      "cell_type": "markdown",
      "source": [],
      "metadata": {
        "id": "IEhFH5kv08H4"
      }
    },
    {
      "cell_type": "code",
      "source": [
        "# Step 1: Instalar el paquete pyGeom2D usando pip\n",
        "# es un paquete en Python para geometría en 2D\n",
        "!pip install pyGeom2D"
      ],
      "metadata": {
        "id": "ahdwV68ZqSEz",
        "colab": {
          "base_uri": "https://localhost:8080/"
        },
        "outputId": "870fa323-594a-4b27-bd71-c49a0f6b4241"
      },
      "execution_count": 30,
      "outputs": [
        {
          "output_type": "stream",
          "name": "stdout",
          "text": [
            "Looking in indexes: https://pypi.org/simple, https://us-python.pkg.dev/colab-wheels/public/simple/\n",
            "Requirement already satisfied: pyGeom2D in /usr/local/lib/python3.8/dist-packages (0.1.2)\n",
            "Requirement already satisfied: numpy in /usr/local/lib/python3.8/dist-packages (from pyGeom2D) (1.21.6)\n",
            "Requirement already satisfied: scipy in /usr/local/lib/python3.8/dist-packages (from pyGeom2D) (1.7.3)\n",
            "Requirement already satisfied: matplotlib in /usr/local/lib/python3.8/dist-packages (from pyGeom2D) (3.2.2)\n",
            "Requirement already satisfied: python-dateutil>=2.1 in /usr/local/lib/python3.8/dist-packages (from matplotlib->pyGeom2D) (2.8.2)\n",
            "Requirement already satisfied: cycler>=0.10 in /usr/local/lib/python3.8/dist-packages (from matplotlib->pyGeom2D) (0.11.0)\n",
            "Requirement already satisfied: kiwisolver>=1.0.1 in /usr/local/lib/python3.8/dist-packages (from matplotlib->pyGeom2D) (1.4.4)\n",
            "Requirement already satisfied: pyparsing!=2.0.4,!=2.1.2,!=2.1.6,>=2.0.1 in /usr/local/lib/python3.8/dist-packages (from matplotlib->pyGeom2D) (3.0.9)\n",
            "Requirement already satisfied: six>=1.5 in /usr/local/lib/python3.8/dist-packages (from python-dateutil>=2.1->matplotlib->pyGeom2D) (1.15.0)\n"
          ]
        }
      ]
    },
    {
      "cell_type": "code",
      "source": [
        "# De este paquete ocupas importar algunas clases\n",
        "from pygeom import Axes, Point, Line"
      ],
      "metadata": {
        "id": "wdFH6JjVqbi-"
      },
      "execution_count": 31,
      "outputs": []
    },
    {
      "cell_type": "markdown",
      "source": [
        "Recuerden que la recta esta definida por dos puntos, por ejemplo;\n",
        "\n",
        "* $ 𝑃_1 = (𝑥_1,𝑦_1) $ ,\n",
        "* $ 𝑃_2 = (𝑥_2,𝑦_2) $ ."
      ],
      "metadata": {
        "id": "o2NhP9U888Z7"
      }
    },
    {
      "cell_type": "code",
      "source": [
        "## definimos los puntos\n",
        "Punto1 = [1, 1]\n",
        "Punto2 = [4, 3]\n"
      ],
      "metadata": {
        "id": "PwKTodYY3SIl"
      },
      "execution_count": 32,
      "outputs": []
    },
    {
      "cell_type": "code",
      "source": [
        "## definimos algunas variables útiles\n",
        "\n",
        "# límite de ejes\n",
        "lim_ejes = (-2,5)\n",
        "\n",
        "# tamaño de figura\n",
        "tam_fig = (7,6)\n",
        "\n",
        "# Crear los ejes cartesianos\n",
        "ejes = Axes(xlim=lim_ejes, ylim=lim_ejes, figsize=tam_fig)"
      ],
      "metadata": {
        "id": "Y7fA9LiV3SCG"
      },
      "execution_count": 33,
      "outputs": []
    },
    {
      "cell_type": "markdown",
      "source": [
        "# Método 1: Utilizando dos puntos"
      ],
      "metadata": {
        "id": "ptiTBQezXT2T"
      }
    },
    {
      "cell_type": "code",
      "source": [
        "## Gráfica de una recta con dos puntos utilizando pygeom\n",
        "\n",
        "# punto-1 -> (x, y, color)\n",
        "puntito1 = Point(Punto1[0], Punto1[1], color='red')\n",
        "# punto-2\n",
        "puntito2 = Point(Punto2[0], Punto2[1], color='green')\n",
        "\n",
        "# definimos la línea entre los 2 puntos\n",
        "linea1 = Line(p1=puntito1, p2=puntito2)\n",
        "\n",
        "# agregar todos los elementos en el plano\n",
        "ejes.addMany([puntito1, puntito2, linea1])\n",
        "\n",
        "# dibujar puntos y líneas\n",
        "ejes.draw()"
      ],
      "metadata": {
        "colab": {
          "base_uri": "https://localhost:8080/",
          "height": 376
        },
        "id": "QxufH8G1qeOj",
        "outputId": "7195e199-5d7d-49a9-ae35-a20f6a4595f4"
      },
      "execution_count": 35,
      "outputs": [
        {
          "output_type": "display_data",
          "data": {
            "text/plain": [
              "<Figure size 504x432 with 1 Axes>"
            ],
            "image/png": "[encoded data removed]"
          },
          "metadata": {
            "needs_background": "light"
          }
        }
      ]
    },
    {
      "cell_type": "markdown",
      "source": [
        "# Método 2: Utilizando un punto y la pendiente"
      ],
      "metadata": {
        "id": "JnO-4JSzXXWJ"
      }
    },
    {
      "cell_type": "markdown",
      "source": [
        "Con dos puntos $ 𝑃_1 = (𝑥_1,𝑦_1) $ , $ 𝑃_2 = (𝑥_2,𝑦_2) $ se puede calcular la pendiente de la línea por medio de:\n",
        "\n",
        "$$ m = \\frac{𝑦_2 – 𝑦_1} { 𝑥_2 – 𝑥_1} $$\n",
        "\n",
        "Sin embargo, si ya se conoce la pendiente de la línea, entonces solo se requiere un punto para trazar la línea."
      ],
      "metadata": {
        "id": "8T-VodG4Xid8"
      }
    },
    {
      "cell_type": "code",
      "source": [
        "## Gráfica de una recta con un punto y la pendiente utilizando pygeom\n",
        "\n",
        "# Utilizamos el punto-1, pero ahora en azul\n",
        "puntito1 = Point(Punto1[0], Punto1[1], color='blue')\n",
        "\n",
        "# pendiente\n",
        "pendiente = 2.0\n",
        "\n",
        "# definimos la recta entre un punto y la pendiente\n",
        "linea2 = Line(p=puntito1, slope=pendiente)\n",
        "\n",
        "# agregar todos los elementos en el plano\n",
        "ejes.addMany([puntito1, linea2])\n",
        "\n",
        "# dibujar puntos y líneas\n",
        "ejes.draw()"
      ],
      "metadata": {
        "colab": {
          "base_uri": "https://localhost:8080/",
          "height": 376
        },
        "id": "a7aW1kijXDIz",
        "outputId": "3484d2a3-7a38-4156-f618-b7b4a8ea4aca"
      },
      "execution_count": 49,
      "outputs": [
        {
          "output_type": "display_data",
          "data": {
            "text/plain": [
              "<Figure size 504x432 with 1 Axes>"
            ],
            "image/png": "[encoded data removed]"
          },
          "metadata": {
            "needs_background": "light"
          }
        }
      ]
    },
    {
      "cell_type": "markdown",
      "source": [
        "# Método 3: Utilizando la pendiente y la intersección en el eje $y$"
      ],
      "metadata": {
        "id": "O0OLWtdHX83C"
      }
    },
    {
      "cell_type": "markdown",
      "source": [
        "La ecuación de la forma pendiente-intersección es:\n",
        "\n",
        "$$ 𝑦 = 𝑚𝑥 + 𝑏 $$\n",
        "\n",
        "donde $m$ es la pendiente y $b$ es la intersección en el eje $y$.\n",
        "\n",
        "Si la ecuación de la recta es\n",
        "\n",
        "$$ 𝑦 = 2𝑥 – 1 $$\n",
        "\n",
        "entonces la pendiente es $2$ y la intersección es $-1$."
      ],
      "metadata": {
        "id": "LSnk2Wb9YBpZ"
      }
    },
    {
      "cell_type": "code",
      "source": [
        "## Gráfica de una recta con un punto y la intersección en el eje y utilizando pygeom\n",
        "\n",
        "linea3 = Line(slope=2.0, intercept=-1.0, color='brown')\n",
        "\n",
        "# agregar solo la línea en el plano\n",
        "ejes.add(linea3)\n",
        "\n",
        "# dibujar puntos y líneas\n",
        "ejes.draw()"
      ],
      "metadata": {
        "colab": {
          "base_uri": "https://localhost:8080/",
          "height": 660
        },
        "id": "S-e9wB2CXDF7",
        "outputId": "416ac6c1-42f0-4113-e23e-2015ef7cca2b"
      },
      "execution_count": 50,
      "outputs": [
        {
          "output_type": "display_data",
          "data": {
            "text/plain": [
              "<Figure size 504x432 with 1 Axes>"
            ],
            "image/png": "[encoded data removed]"
          },
          "metadata": {
            "needs_background": "light"
          }
        },
        {
          "output_type": "execute_result",
          "data": {
            "text/plain": [
              "Text(0.5, 0, 'x - axis')"
            ]
          },
          "metadata": {},
          "execution_count": 50
        },
        {
          "output_type": "display_data",
          "data": {
            "text/plain": [
              "<Figure size 432x288 with 1 Axes>"
            ],
            "image/png": "[encoded data removed]"
          },
          "metadata": {
            "needs_background": "light"
          }
        }
      ]
    },
    {
      "cell_type": "markdown",
      "metadata": {
        "id": "pGLzim4z_fW3"
      },
      "source": [
        "## Ejercicios"
      ]
    },
    {
      "cell_type": "markdown",
      "metadata": {
        "id": "9ach5gDX_jUw"
      },
      "source": [
        "**Grafíca 2 líneas con sus correspondientes puntos de acuerdo a los siguientes requerimientos:**\n",
        "\n",
        "I. Nivel de dificultad: Baja\n",
        "* Repetir los tres métodos utilizando:\n",
        "  * Seleccionar los puntos necesarios (diferentes a los ejemplos)\n",
        "  * Los puntos deben localizarse entre $[-10,10]$\n",
        "  * Usar colores diferentes para cada línea\n",
        "\n",
        "\n",
        "II. Nivel de dificultad: Media\n",
        "* Repetir los tres métodos utilizando:\n",
        "  * Dos líneas generadas aleatoriamente entre $[a=-20, b=10]$\n",
        "  * Alguna de las estrategias mencionadas en el ejercicio 2 para generar los valores aleatorios\n",
        "  * Agregar etiquetas a cada punto, por ejemplo: label='Puntote Grandote'\n",
        "  * Utilizar diferentes tamaños de los puntos, por ejemplo: size=200"
      ]
    }
  ]
}